{
 "cells": [
  {
   "cell_type": "code",
   "execution_count": 1,
   "id": "velvet-surrey",
   "metadata": {},
   "outputs": [],
   "source": [
    "import random\n",
    "\n",
    "def guessing(min,max):\n",
    "    ans = random.randint(min,max)\n",
    "    game_over = False\n",
    "    times = 0\n",
    "    while not game_over:\n",
    "        times += 1\n",
    "        print(f'\\n答案位於{min}~{max}之間')\n",
    "        player_ans = int(input('請猜數字: '))\n",
    "        if player_ans > max or player_ans < min:\n",
    "            continue\n",
    "        if player_ans == ans:\n",
    "            game_over = True\n",
    "        elif player_ans > ans:\n",
    "            max = player_ans\n",
    "        elif player_ans < ans:\n",
    "            min = player_ans\n",
    "    print(f'恭喜答對，正確答案是{ans}，您猜了{times}次')"
   ]
  },
  {
   "cell_type": "code",
   "execution_count": 2,
   "id": "systematic-berry",
   "metadata": {},
   "outputs": [
    {
     "name": "stdout",
     "output_type": "stream",
     "text": [
      "\n",
      "答案位於1~100之間\n",
      "請猜數字: 50\n",
      "\n",
      "答案位於1~50之間\n",
      "請猜數字: 35\n",
      "\n",
      "答案位於1~35之間\n",
      "請猜數字: 20\n",
      "\n",
      "答案位於20~35之間\n",
      "請猜數字: 30\n",
      "\n",
      "答案位於30~35之間\n",
      "請猜數字: 33\n",
      "恭喜答對，正確答案是33，您猜了5次\n"
     ]
    }
   ],
   "source": [
    "guessing(1,100)"
   ]
  }
 ],
 "metadata": {
  "kernelspec": {
   "display_name": "Python 3",
   "language": "python",
   "name": "python3"
  },
  "language_info": {
   "codemirror_mode": {
    "name": "ipython",
    "version": 3
   },
   "file_extension": ".py",
   "mimetype": "text/x-python",
   "name": "python",
   "nbconvert_exporter": "python",
   "pygments_lexer": "ipython3",
   "version": "3.8.2"
  }
 },
 "nbformat": 4,
 "nbformat_minor": 5
}
