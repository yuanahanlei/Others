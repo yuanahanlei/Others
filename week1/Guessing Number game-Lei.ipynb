{
 "cells": [
  {
   "cell_type": "markdown",
   "metadata": {},
   "source": [
    "# 試做"
   ]
  },
  {
   "cell_type": "code",
   "execution_count": null,
   "metadata": {},
   "outputs": [
    {
     "name": "stdout",
     "output_type": "stream",
     "text": [
      "請輸入要猜的數字，在 1 到 100 之間\n"
     ]
    }
   ],
   "source": [
    "import random\n",
    "answer = random.randint(1,100)\n",
    "l=1\n",
    "h=100\n",
    "b= True\n",
    "while (b):\n",
    "    print(\"請輸入要猜的數字，在\", l , \"到\",h ,\"之間\")\n",
    "    guess  =  int(input())\n",
    "    if(answer == guess):\n",
    "        print(\"猜到了\")\n",
    "        print(answer)\n",
    "        b= False\n",
    "    elif(answer< guess):\n",
    "        print(\"猜錯了，比較小\")\n",
    "        h = guess\n",
    "    elif(answer>guess):\n",
    "        print(\"猜錯了，比較大\")\n",
    "        l = guess"
   ]
  },
  {
   "cell_type": "markdown",
   "metadata": {},
   "source": [
    "# 修正版"
   ]
  },
  {
   "cell_type": "code",
   "execution_count": 4,
   "metadata": {},
   "outputs": [
    {
     "name": "stdout",
     "output_type": "stream",
     "text": [
      "請輸入要猜的數字，在 1 到 100 之間\n",
      "請猜！40\n",
      "猜錯了，比較大\n",
      "請輸入要猜的數字，在 40 到 100 之間\n",
      "請猜！70\n",
      "猜錯了，比較小\n",
      "請輸入要猜的數字，在 40 到 70 之間\n",
      "請猜！50\n",
      "猜到了！答案是50，您猜了3次\n",
      "50\n"
     ]
    }
   ],
   "source": [
    "import random\n",
    "\n",
    "def guessing(min,max):\n",
    "    answer = random.randint(min,max)\n",
    "    b= True\n",
    "    times = 0\n",
    "    while (b):\n",
    "        times += 1\n",
    "        print(\"請輸入要猜的數字，在\", min , \"到\",max ,\"之間\")\n",
    "        guess  =  int(input('請猜！'))\n",
    "        if(answer == guess):\n",
    "            print(f'猜到了！答案是{answer}，您猜了{times}次')\n",
    "            print(answer)\n",
    "            b= False\n",
    "        elif(answer< guess):\n",
    "            print(\"猜錯了，比較小\")\n",
    "            max = guess\n",
    "        elif(answer>guess):\n",
    "            print(\"猜錯了，比較大\")\n",
    "            min = guess\n",
    "            \n",
    "guessing(1,100)"
   ]
  },
  {
   "cell_type": "code",
   "execution_count": null,
   "metadata": {},
   "outputs": [],
   "source": []
  }
 ],
 "metadata": {
  "kernelspec": {
   "display_name": "Python 3",
   "language": "python",
   "name": "python3"
  },
  "language_info": {
   "codemirror_mode": {
    "name": "ipython",
    "version": 3
   },
   "file_extension": ".py",
   "mimetype": "text/x-python",
   "name": "python",
   "nbconvert_exporter": "python",
   "pygments_lexer": "ipython3",
   "version": "3.7.4"
  }
 },
 "nbformat": 4,
 "nbformat_minor": 2
}
